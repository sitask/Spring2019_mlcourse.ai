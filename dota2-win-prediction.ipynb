{
 "cells": [
  {
   "cell_type": "markdown",
   "metadata": {
    "_uuid": "540935bf571b28452d474fd9191d8e1e20d87005"
   },
   "source": [
    "# <center> Dota 2 winner prediction\n",
    "\n",
    "<img src='https://habrastorage.org/webt/ua/vn/pq/uavnpqfoih4zwwznvxubu33ispy.jpeg'>\n",
    "\n",
    "#### <center> Originally done by Peter Romov, translated and adapted by Yury Kashnitskiy (@yorko)\n",
    "    \n",
    "### Quick start\n",
    "\n",
    "Grab features prepared by organizers, train a model and submit. \n",
    "\n",
    "1. [Data description](#Data-description)\n",
    "2. [Features created by organizers](#Features-created-by-organizers)\n",
    "3. [Training and evaluating a model](#Training-and-evaluating-a-model)\n",
    "4. [Preparing a submission](#Preparing-a-submission)\n",
    "\n",
    "### Now do it as a real Data Scientist\n",
    "\n",
    "5. [Cross-validation](#Cross-validation)\n",
    "6. [Working with all available information on Dota games](#Working-with-all-available-information-on-Dota-games)\n",
    "7. [Feature engineering](#Feature-engineering)\n",
    "8. [How to build initial features from scratch](#How-to-build-initial-features-from-scratch)"
   ]
  },
  {
   "cell_type": "markdown",
   "metadata": {
    "_uuid": "4339c93b125e5ec10e2fb6e4d5d00892570a2911"
   },
   "source": [
    "## Data description\n",
    "\n",
    "We have the following files:\n",
    "\n",
    "- `sample_submission.csv`: example of a submission file\n",
    "- `train_matches.jsonl`, `test_matches.jsonl`: full \"raw\" training data \n",
    "- `train_features.csv`, `test_features.csv`: features created by organizers\n",
    "- `train_targets.csv`: results of training games (including the winner)"
   ]
  },
  {
   "cell_type": "markdown",
   "metadata": {
    "_uuid": "2df6f18c884cc8dfa75b584d7f71f7d0e89db897"
   },
   "source": [
    "## Features created by organizers\n",
    "\n",
    "These are basic features which include simple players' statistics. Scroll to the end to see how to build these features from raw json files."
   ]
  },
  {
   "cell_type": "code",
   "execution_count": 38,
   "metadata": {
    "_uuid": "14467d4ccb21360c1d699d0275b87f234f30c961"
   },
   "outputs": [],
   "source": [
    "import os\n",
    "import pandas as pd\n",
    "\n",
    "PATH_TO_DATA = 'data/dota/'\n",
    "\n",
    "df_train_features = pd.read_csv(os.path.join(PATH_TO_DATA, \n",
    "                                             'train_features.csv'), \n",
    "                                    index_col='match_id_hash')\n",
    "df_train_targets = pd.read_csv(os.path.join(PATH_TO_DATA, \n",
    "                                            'train_targets.csv'), \n",
    "                                   index_col='match_id_hash')"
   ]
  },
  {
   "cell_type": "markdown",
   "metadata": {
    "_uuid": "e805d116c02fb349617562accd0b784e199f30dd"
   },
   "source": [
    "We have ~ 40k games, each described by `match_id_hash` (game id) and 245 features. Also `game_time` is given - time (in secs) when the game was over. "
   ]
  },
  {
   "cell_type": "code",
   "execution_count": 39,
   "metadata": {
    "_uuid": "3b93c28dfd711f49e4f3a2374175f979547f4b67"
   },
   "outputs": [
    {
     "data": {
      "text/plain": [
       "(39675, 245)"
      ]
     },
     "execution_count": 39,
     "metadata": {},
     "output_type": "execute_result"
    }
   ],
   "source": [
    "df_train_features.shape"
   ]
  },
  {
   "cell_type": "code",
   "execution_count": 40,
   "metadata": {
    "_uuid": "c5de043331cca15e917bc20e4bb8e6bed75ddcc9"
   },
   "outputs": [
    {
     "data": {
      "text/html": [
       "<div>\n",
       "<style scoped>\n",
       "    .dataframe tbody tr th:only-of-type {\n",
       "        vertical-align: middle;\n",
       "    }\n",
       "\n",
       "    .dataframe tbody tr th {\n",
       "        vertical-align: top;\n",
       "    }\n",
       "\n",
       "    .dataframe thead th {\n",
       "        text-align: right;\n",
       "    }\n",
       "</style>\n",
       "<table border=\"1\" class=\"dataframe\">\n",
       "  <thead>\n",
       "    <tr style=\"text-align: right;\">\n",
       "      <th></th>\n",
       "      <th>game_time</th>\n",
       "      <th>game_mode</th>\n",
       "      <th>lobby_type</th>\n",
       "      <th>objectives_len</th>\n",
       "      <th>chat_len</th>\n",
       "      <th>r1_hero_id</th>\n",
       "      <th>r1_kills</th>\n",
       "      <th>r1_deaths</th>\n",
       "      <th>r1_assists</th>\n",
       "      <th>r1_denies</th>\n",
       "      <th>...</th>\n",
       "      <th>d5_stuns</th>\n",
       "      <th>d5_creeps_stacked</th>\n",
       "      <th>d5_camps_stacked</th>\n",
       "      <th>d5_rune_pickups</th>\n",
       "      <th>d5_firstblood_claimed</th>\n",
       "      <th>d5_teamfight_participation</th>\n",
       "      <th>d5_towers_killed</th>\n",
       "      <th>d5_roshans_killed</th>\n",
       "      <th>d5_obs_placed</th>\n",
       "      <th>d5_sen_placed</th>\n",
       "    </tr>\n",
       "    <tr>\n",
       "      <th>match_id_hash</th>\n",
       "      <th></th>\n",
       "      <th></th>\n",
       "      <th></th>\n",
       "      <th></th>\n",
       "      <th></th>\n",
       "      <th></th>\n",
       "      <th></th>\n",
       "      <th></th>\n",
       "      <th></th>\n",
       "      <th></th>\n",
       "      <th></th>\n",
       "      <th></th>\n",
       "      <th></th>\n",
       "      <th></th>\n",
       "      <th></th>\n",
       "      <th></th>\n",
       "      <th></th>\n",
       "      <th></th>\n",
       "      <th></th>\n",
       "      <th></th>\n",
       "      <th></th>\n",
       "    </tr>\n",
       "  </thead>\n",
       "  <tbody>\n",
       "    <tr>\n",
       "      <th>a400b8f29dece5f4d266f49f1ae2e98a</th>\n",
       "      <td>155</td>\n",
       "      <td>22</td>\n",
       "      <td>7</td>\n",
       "      <td>1</td>\n",
       "      <td>11</td>\n",
       "      <td>11</td>\n",
       "      <td>0</td>\n",
       "      <td>0</td>\n",
       "      <td>0</td>\n",
       "      <td>0</td>\n",
       "      <td>...</td>\n",
       "      <td>0.000000</td>\n",
       "      <td>0</td>\n",
       "      <td>0</td>\n",
       "      <td>0</td>\n",
       "      <td>0</td>\n",
       "      <td>0.00</td>\n",
       "      <td>0</td>\n",
       "      <td>0</td>\n",
       "      <td>0</td>\n",
       "      <td>0</td>\n",
       "    </tr>\n",
       "    <tr>\n",
       "      <th>b9c57c450ce74a2af79c9ce96fac144d</th>\n",
       "      <td>658</td>\n",
       "      <td>4</td>\n",
       "      <td>0</td>\n",
       "      <td>3</td>\n",
       "      <td>10</td>\n",
       "      <td>15</td>\n",
       "      <td>7</td>\n",
       "      <td>2</td>\n",
       "      <td>0</td>\n",
       "      <td>7</td>\n",
       "      <td>...</td>\n",
       "      <td>0.000000</td>\n",
       "      <td>0</td>\n",
       "      <td>0</td>\n",
       "      <td>0</td>\n",
       "      <td>0</td>\n",
       "      <td>0.00</td>\n",
       "      <td>0</td>\n",
       "      <td>0</td>\n",
       "      <td>0</td>\n",
       "      <td>0</td>\n",
       "    </tr>\n",
       "    <tr>\n",
       "      <th>6db558535151ea18ca70a6892197db41</th>\n",
       "      <td>21</td>\n",
       "      <td>23</td>\n",
       "      <td>0</td>\n",
       "      <td>0</td>\n",
       "      <td>0</td>\n",
       "      <td>101</td>\n",
       "      <td>0</td>\n",
       "      <td>0</td>\n",
       "      <td>0</td>\n",
       "      <td>0</td>\n",
       "      <td>...</td>\n",
       "      <td>0.000000</td>\n",
       "      <td>0</td>\n",
       "      <td>0</td>\n",
       "      <td>0</td>\n",
       "      <td>0</td>\n",
       "      <td>0.00</td>\n",
       "      <td>0</td>\n",
       "      <td>0</td>\n",
       "      <td>0</td>\n",
       "      <td>0</td>\n",
       "    </tr>\n",
       "    <tr>\n",
       "      <th>46a0ddce8f7ed2a8d9bd5edcbb925682</th>\n",
       "      <td>576</td>\n",
       "      <td>22</td>\n",
       "      <td>7</td>\n",
       "      <td>1</td>\n",
       "      <td>4</td>\n",
       "      <td>14</td>\n",
       "      <td>1</td>\n",
       "      <td>0</td>\n",
       "      <td>3</td>\n",
       "      <td>1</td>\n",
       "      <td>...</td>\n",
       "      <td>8.664527</td>\n",
       "      <td>3</td>\n",
       "      <td>1</td>\n",
       "      <td>3</td>\n",
       "      <td>0</td>\n",
       "      <td>0.00</td>\n",
       "      <td>0</td>\n",
       "      <td>0</td>\n",
       "      <td>2</td>\n",
       "      <td>0</td>\n",
       "    </tr>\n",
       "    <tr>\n",
       "      <th>b1b35ff97723d9b7ade1c9c3cf48f770</th>\n",
       "      <td>453</td>\n",
       "      <td>22</td>\n",
       "      <td>7</td>\n",
       "      <td>1</td>\n",
       "      <td>3</td>\n",
       "      <td>42</td>\n",
       "      <td>0</td>\n",
       "      <td>1</td>\n",
       "      <td>1</td>\n",
       "      <td>0</td>\n",
       "      <td>...</td>\n",
       "      <td>0.000000</td>\n",
       "      <td>2</td>\n",
       "      <td>1</td>\n",
       "      <td>2</td>\n",
       "      <td>0</td>\n",
       "      <td>0.25</td>\n",
       "      <td>0</td>\n",
       "      <td>0</td>\n",
       "      <td>0</td>\n",
       "      <td>0</td>\n",
       "    </tr>\n",
       "  </tbody>\n",
       "</table>\n",
       "<p>5 rows × 245 columns</p>\n",
       "</div>"
      ],
      "text/plain": [
       "                                  game_time  game_mode  lobby_type  \\\n",
       "match_id_hash                                                        \n",
       "a400b8f29dece5f4d266f49f1ae2e98a        155         22           7   \n",
       "b9c57c450ce74a2af79c9ce96fac144d        658          4           0   \n",
       "6db558535151ea18ca70a6892197db41         21         23           0   \n",
       "46a0ddce8f7ed2a8d9bd5edcbb925682        576         22           7   \n",
       "b1b35ff97723d9b7ade1c9c3cf48f770        453         22           7   \n",
       "\n",
       "                                  objectives_len  chat_len  r1_hero_id  \\\n",
       "match_id_hash                                                            \n",
       "a400b8f29dece5f4d266f49f1ae2e98a               1        11          11   \n",
       "b9c57c450ce74a2af79c9ce96fac144d               3        10          15   \n",
       "6db558535151ea18ca70a6892197db41               0         0         101   \n",
       "46a0ddce8f7ed2a8d9bd5edcbb925682               1         4          14   \n",
       "b1b35ff97723d9b7ade1c9c3cf48f770               1         3          42   \n",
       "\n",
       "                                  r1_kills  r1_deaths  r1_assists  r1_denies  \\\n",
       "match_id_hash                                                                  \n",
       "a400b8f29dece5f4d266f49f1ae2e98a         0          0           0          0   \n",
       "b9c57c450ce74a2af79c9ce96fac144d         7          2           0          7   \n",
       "6db558535151ea18ca70a6892197db41         0          0           0          0   \n",
       "46a0ddce8f7ed2a8d9bd5edcbb925682         1          0           3          1   \n",
       "b1b35ff97723d9b7ade1c9c3cf48f770         0          1           1          0   \n",
       "\n",
       "                                      ...        d5_stuns  d5_creeps_stacked  \\\n",
       "match_id_hash                         ...                                      \n",
       "a400b8f29dece5f4d266f49f1ae2e98a      ...        0.000000                  0   \n",
       "b9c57c450ce74a2af79c9ce96fac144d      ...        0.000000                  0   \n",
       "6db558535151ea18ca70a6892197db41      ...        0.000000                  0   \n",
       "46a0ddce8f7ed2a8d9bd5edcbb925682      ...        8.664527                  3   \n",
       "b1b35ff97723d9b7ade1c9c3cf48f770      ...        0.000000                  2   \n",
       "\n",
       "                                  d5_camps_stacked  d5_rune_pickups  \\\n",
       "match_id_hash                                                         \n",
       "a400b8f29dece5f4d266f49f1ae2e98a                 0                0   \n",
       "b9c57c450ce74a2af79c9ce96fac144d                 0                0   \n",
       "6db558535151ea18ca70a6892197db41                 0                0   \n",
       "46a0ddce8f7ed2a8d9bd5edcbb925682                 1                3   \n",
       "b1b35ff97723d9b7ade1c9c3cf48f770                 1                2   \n",
       "\n",
       "                                  d5_firstblood_claimed  \\\n",
       "match_id_hash                                             \n",
       "a400b8f29dece5f4d266f49f1ae2e98a                      0   \n",
       "b9c57c450ce74a2af79c9ce96fac144d                      0   \n",
       "6db558535151ea18ca70a6892197db41                      0   \n",
       "46a0ddce8f7ed2a8d9bd5edcbb925682                      0   \n",
       "b1b35ff97723d9b7ade1c9c3cf48f770                      0   \n",
       "\n",
       "                                  d5_teamfight_participation  \\\n",
       "match_id_hash                                                  \n",
       "a400b8f29dece5f4d266f49f1ae2e98a                        0.00   \n",
       "b9c57c450ce74a2af79c9ce96fac144d                        0.00   \n",
       "6db558535151ea18ca70a6892197db41                        0.00   \n",
       "46a0ddce8f7ed2a8d9bd5edcbb925682                        0.00   \n",
       "b1b35ff97723d9b7ade1c9c3cf48f770                        0.25   \n",
       "\n",
       "                                  d5_towers_killed  d5_roshans_killed  \\\n",
       "match_id_hash                                                           \n",
       "a400b8f29dece5f4d266f49f1ae2e98a                 0                  0   \n",
       "b9c57c450ce74a2af79c9ce96fac144d                 0                  0   \n",
       "6db558535151ea18ca70a6892197db41                 0                  0   \n",
       "46a0ddce8f7ed2a8d9bd5edcbb925682                 0                  0   \n",
       "b1b35ff97723d9b7ade1c9c3cf48f770                 0                  0   \n",
       "\n",
       "                                  d5_obs_placed  d5_sen_placed  \n",
       "match_id_hash                                                   \n",
       "a400b8f29dece5f4d266f49f1ae2e98a              0              0  \n",
       "b9c57c450ce74a2af79c9ce96fac144d              0              0  \n",
       "6db558535151ea18ca70a6892197db41              0              0  \n",
       "46a0ddce8f7ed2a8d9bd5edcbb925682              2              0  \n",
       "b1b35ff97723d9b7ade1c9c3cf48f770              0              0  \n",
       "\n",
       "[5 rows x 245 columns]"
      ]
     },
     "execution_count": 40,
     "metadata": {},
     "output_type": "execute_result"
    }
   ],
   "source": [
    "df_train_features.head()"
   ]
  },
  {
   "cell_type": "markdown",
   "metadata": {
    "_uuid": "2ab261af9db00f17af31a68c950912c03ab40ae0"
   },
   "source": [
    "We are interested in the `radiant_win` column in `train_targets.csv`. All these features are not known during the game (they come \"from future\" as compared to `game_time`), so we have these features only for training data. "
   ]
  },
  {
   "cell_type": "code",
   "execution_count": 41,
   "metadata": {
    "_uuid": "bd4f390eb21611fb9ce7dd2379923238ba6c692b"
   },
   "outputs": [
    {
     "data": {
      "text/html": [
       "<div>\n",
       "<style scoped>\n",
       "    .dataframe tbody tr th:only-of-type {\n",
       "        vertical-align: middle;\n",
       "    }\n",
       "\n",
       "    .dataframe tbody tr th {\n",
       "        vertical-align: top;\n",
       "    }\n",
       "\n",
       "    .dataframe thead th {\n",
       "        text-align: right;\n",
       "    }\n",
       "</style>\n",
       "<table border=\"1\" class=\"dataframe\">\n",
       "  <thead>\n",
       "    <tr style=\"text-align: right;\">\n",
       "      <th></th>\n",
       "      <th>game_time</th>\n",
       "      <th>radiant_win</th>\n",
       "      <th>duration</th>\n",
       "      <th>time_remaining</th>\n",
       "      <th>next_roshan_team</th>\n",
       "    </tr>\n",
       "    <tr>\n",
       "      <th>match_id_hash</th>\n",
       "      <th></th>\n",
       "      <th></th>\n",
       "      <th></th>\n",
       "      <th></th>\n",
       "      <th></th>\n",
       "    </tr>\n",
       "  </thead>\n",
       "  <tbody>\n",
       "    <tr>\n",
       "      <th>a400b8f29dece5f4d266f49f1ae2e98a</th>\n",
       "      <td>155</td>\n",
       "      <td>False</td>\n",
       "      <td>992</td>\n",
       "      <td>837</td>\n",
       "      <td>NaN</td>\n",
       "    </tr>\n",
       "    <tr>\n",
       "      <th>b9c57c450ce74a2af79c9ce96fac144d</th>\n",
       "      <td>658</td>\n",
       "      <td>True</td>\n",
       "      <td>1154</td>\n",
       "      <td>496</td>\n",
       "      <td>NaN</td>\n",
       "    </tr>\n",
       "    <tr>\n",
       "      <th>6db558535151ea18ca70a6892197db41</th>\n",
       "      <td>21</td>\n",
       "      <td>True</td>\n",
       "      <td>1503</td>\n",
       "      <td>1482</td>\n",
       "      <td>Radiant</td>\n",
       "    </tr>\n",
       "    <tr>\n",
       "      <th>46a0ddce8f7ed2a8d9bd5edcbb925682</th>\n",
       "      <td>576</td>\n",
       "      <td>True</td>\n",
       "      <td>1952</td>\n",
       "      <td>1376</td>\n",
       "      <td>NaN</td>\n",
       "    </tr>\n",
       "    <tr>\n",
       "      <th>b1b35ff97723d9b7ade1c9c3cf48f770</th>\n",
       "      <td>453</td>\n",
       "      <td>False</td>\n",
       "      <td>2001</td>\n",
       "      <td>1548</td>\n",
       "      <td>NaN</td>\n",
       "    </tr>\n",
       "  </tbody>\n",
       "</table>\n",
       "</div>"
      ],
      "text/plain": [
       "                                  game_time  radiant_win  duration  \\\n",
       "match_id_hash                                                        \n",
       "a400b8f29dece5f4d266f49f1ae2e98a        155        False       992   \n",
       "b9c57c450ce74a2af79c9ce96fac144d        658         True      1154   \n",
       "6db558535151ea18ca70a6892197db41         21         True      1503   \n",
       "46a0ddce8f7ed2a8d9bd5edcbb925682        576         True      1952   \n",
       "b1b35ff97723d9b7ade1c9c3cf48f770        453        False      2001   \n",
       "\n",
       "                                  time_remaining next_roshan_team  \n",
       "match_id_hash                                                      \n",
       "a400b8f29dece5f4d266f49f1ae2e98a             837              NaN  \n",
       "b9c57c450ce74a2af79c9ce96fac144d             496              NaN  \n",
       "6db558535151ea18ca70a6892197db41            1482          Radiant  \n",
       "46a0ddce8f7ed2a8d9bd5edcbb925682            1376              NaN  \n",
       "b1b35ff97723d9b7ade1c9c3cf48f770            1548              NaN  "
      ]
     },
     "execution_count": 41,
     "metadata": {},
     "output_type": "execute_result"
    }
   ],
   "source": [
    "df_train_targets.head()"
   ]
  },
  {
   "cell_type": "code",
   "execution_count": 42,
   "metadata": {},
   "outputs": [
    {
     "data": {
      "text/plain": [
       "((39675, 245), (39675, 5))"
      ]
     },
     "execution_count": 42,
     "metadata": {},
     "output_type": "execute_result"
    }
   ],
   "source": [
    "df_train_features.shape, df_train_targets.shape"
   ]
  },
  {
   "cell_type": "code",
   "execution_count": 43,
   "metadata": {},
   "outputs": [
    {
     "data": {
      "text/html": [
       "<div>\n",
       "<style scoped>\n",
       "    .dataframe tbody tr th:only-of-type {\n",
       "        vertical-align: middle;\n",
       "    }\n",
       "\n",
       "    .dataframe tbody tr th {\n",
       "        vertical-align: top;\n",
       "    }\n",
       "\n",
       "    .dataframe thead th {\n",
       "        text-align: right;\n",
       "    }\n",
       "</style>\n",
       "<table border=\"1\" class=\"dataframe\">\n",
       "  <thead>\n",
       "    <tr style=\"text-align: right;\">\n",
       "      <th></th>\n",
       "      <th>game_time</th>\n",
       "      <th>game_mode</th>\n",
       "      <th>lobby_type</th>\n",
       "      <th>objectives_len</th>\n",
       "      <th>chat_len</th>\n",
       "      <th>r1_hero_id</th>\n",
       "      <th>r1_kills</th>\n",
       "      <th>r1_deaths</th>\n",
       "      <th>r1_assists</th>\n",
       "      <th>r1_denies</th>\n",
       "      <th>...</th>\n",
       "      <th>d5_stuns</th>\n",
       "      <th>d5_creeps_stacked</th>\n",
       "      <th>d5_camps_stacked</th>\n",
       "      <th>d5_rune_pickups</th>\n",
       "      <th>d5_firstblood_claimed</th>\n",
       "      <th>d5_teamfight_participation</th>\n",
       "      <th>d5_towers_killed</th>\n",
       "      <th>d5_roshans_killed</th>\n",
       "      <th>d5_obs_placed</th>\n",
       "      <th>d5_sen_placed</th>\n",
       "    </tr>\n",
       "  </thead>\n",
       "  <tbody>\n",
       "    <tr>\n",
       "      <th>count</th>\n",
       "      <td>39675.000000</td>\n",
       "      <td>39675.000000</td>\n",
       "      <td>39675.000000</td>\n",
       "      <td>39675.000000</td>\n",
       "      <td>39675.000000</td>\n",
       "      <td>39675.000000</td>\n",
       "      <td>39675.000000</td>\n",
       "      <td>39675.000000</td>\n",
       "      <td>39675.000000</td>\n",
       "      <td>39675.000000</td>\n",
       "      <td>...</td>\n",
       "      <td>39675.000000</td>\n",
       "      <td>39675.000000</td>\n",
       "      <td>39675.000000</td>\n",
       "      <td>39675.000000</td>\n",
       "      <td>39675.000000</td>\n",
       "      <td>39675.000000</td>\n",
       "      <td>39675.000000</td>\n",
       "      <td>39675.000000</td>\n",
       "      <td>39675.000000</td>\n",
       "      <td>39675.000000</td>\n",
       "    </tr>\n",
       "    <tr>\n",
       "      <th>mean</th>\n",
       "      <td>1146.082798</td>\n",
       "      <td>19.584776</td>\n",
       "      <td>4.772350</td>\n",
       "      <td>6.524865</td>\n",
       "      <td>7.338500</td>\n",
       "      <td>51.103138</td>\n",
       "      <td>3.147876</td>\n",
       "      <td>3.268809</td>\n",
       "      <td>4.670170</td>\n",
       "      <td>6.289628</td>\n",
       "      <td>...</td>\n",
       "      <td>11.773324</td>\n",
       "      <td>1.039017</td>\n",
       "      <td>0.343138</td>\n",
       "      <td>4.683907</td>\n",
       "      <td>0.090132</td>\n",
       "      <td>0.415961</td>\n",
       "      <td>0.299811</td>\n",
       "      <td>0.024423</td>\n",
       "      <td>1.269288</td>\n",
       "      <td>0.783289</td>\n",
       "    </tr>\n",
       "    <tr>\n",
       "      <th>std</th>\n",
       "      <td>767.206621</td>\n",
       "      <td>6.304976</td>\n",
       "      <td>3.260582</td>\n",
       "      <td>6.492107</td>\n",
       "      <td>13.366381</td>\n",
       "      <td>34.603057</td>\n",
       "      <td>3.724282</td>\n",
       "      <td>3.283323</td>\n",
       "      <td>5.225349</td>\n",
       "      <td>8.203957</td>\n",
       "      <td>...</td>\n",
       "      <td>20.578321</td>\n",
       "      <td>3.534302</td>\n",
       "      <td>0.963734</td>\n",
       "      <td>4.643219</td>\n",
       "      <td>0.286375</td>\n",
       "      <td>0.267551</td>\n",
       "      <td>0.732490</td>\n",
       "      <td>0.170500</td>\n",
       "      <td>2.597549</td>\n",
       "      <td>2.437952</td>\n",
       "    </tr>\n",
       "    <tr>\n",
       "      <th>min</th>\n",
       "      <td>0.000000</td>\n",
       "      <td>2.000000</td>\n",
       "      <td>0.000000</td>\n",
       "      <td>0.000000</td>\n",
       "      <td>0.000000</td>\n",
       "      <td>1.000000</td>\n",
       "      <td>0.000000</td>\n",
       "      <td>0.000000</td>\n",
       "      <td>0.000000</td>\n",
       "      <td>0.000000</td>\n",
       "      <td>...</td>\n",
       "      <td>-6.191284</td>\n",
       "      <td>0.000000</td>\n",
       "      <td>0.000000</td>\n",
       "      <td>0.000000</td>\n",
       "      <td>0.000000</td>\n",
       "      <td>0.000000</td>\n",
       "      <td>0.000000</td>\n",
       "      <td>0.000000</td>\n",
       "      <td>0.000000</td>\n",
       "      <td>0.000000</td>\n",
       "    </tr>\n",
       "    <tr>\n",
       "      <th>25%</th>\n",
       "      <td>521.000000</td>\n",
       "      <td>22.000000</td>\n",
       "      <td>0.000000</td>\n",
       "      <td>1.000000</td>\n",
       "      <td>0.000000</td>\n",
       "      <td>20.000000</td>\n",
       "      <td>0.000000</td>\n",
       "      <td>1.000000</td>\n",
       "      <td>1.000000</td>\n",
       "      <td>1.000000</td>\n",
       "      <td>...</td>\n",
       "      <td>0.000000</td>\n",
       "      <td>0.000000</td>\n",
       "      <td>0.000000</td>\n",
       "      <td>1.000000</td>\n",
       "      <td>0.000000</td>\n",
       "      <td>0.236842</td>\n",
       "      <td>0.000000</td>\n",
       "      <td>0.000000</td>\n",
       "      <td>0.000000</td>\n",
       "      <td>0.000000</td>\n",
       "    </tr>\n",
       "    <tr>\n",
       "      <th>50%</th>\n",
       "      <td>1044.000000</td>\n",
       "      <td>22.000000</td>\n",
       "      <td>7.000000</td>\n",
       "      <td>4.000000</td>\n",
       "      <td>3.000000</td>\n",
       "      <td>44.000000</td>\n",
       "      <td>2.000000</td>\n",
       "      <td>2.000000</td>\n",
       "      <td>3.000000</td>\n",
       "      <td>3.000000</td>\n",
       "      <td>...</td>\n",
       "      <td>1.505127</td>\n",
       "      <td>0.000000</td>\n",
       "      <td>0.000000</td>\n",
       "      <td>3.000000</td>\n",
       "      <td>0.000000</td>\n",
       "      <td>0.444444</td>\n",
       "      <td>0.000000</td>\n",
       "      <td>0.000000</td>\n",
       "      <td>0.000000</td>\n",
       "      <td>0.000000</td>\n",
       "    </tr>\n",
       "    <tr>\n",
       "      <th>75%</th>\n",
       "      <td>1656.000000</td>\n",
       "      <td>22.000000</td>\n",
       "      <td>7.000000</td>\n",
       "      <td>10.000000</td>\n",
       "      <td>9.000000</td>\n",
       "      <td>81.000000</td>\n",
       "      <td>5.000000</td>\n",
       "      <td>5.000000</td>\n",
       "      <td>7.000000</td>\n",
       "      <td>9.000000</td>\n",
       "      <td>...</td>\n",
       "      <td>16.029575</td>\n",
       "      <td>0.000000</td>\n",
       "      <td>0.000000</td>\n",
       "      <td>7.000000</td>\n",
       "      <td>0.000000</td>\n",
       "      <td>0.600000</td>\n",
       "      <td>0.000000</td>\n",
       "      <td>0.000000</td>\n",
       "      <td>1.000000</td>\n",
       "      <td>0.000000</td>\n",
       "    </tr>\n",
       "    <tr>\n",
       "      <th>max</th>\n",
       "      <td>4933.000000</td>\n",
       "      <td>23.000000</td>\n",
       "      <td>7.000000</td>\n",
       "      <td>43.000000</td>\n",
       "      <td>291.000000</td>\n",
       "      <td>120.000000</td>\n",
       "      <td>32.000000</td>\n",
       "      <td>27.000000</td>\n",
       "      <td>40.000000</td>\n",
       "      <td>84.000000</td>\n",
       "      <td>...</td>\n",
       "      <td>277.618070</td>\n",
       "      <td>132.000000</td>\n",
       "      <td>29.000000</td>\n",
       "      <td>57.000000</td>\n",
       "      <td>1.000000</td>\n",
       "      <td>2.000000</td>\n",
       "      <td>9.000000</td>\n",
       "      <td>5.000000</td>\n",
       "      <td>26.000000</td>\n",
       "      <td>47.000000</td>\n",
       "    </tr>\n",
       "  </tbody>\n",
       "</table>\n",
       "<p>8 rows × 245 columns</p>\n",
       "</div>"
      ],
      "text/plain": [
       "          game_time     game_mode    lobby_type  objectives_len      chat_len  \\\n",
       "count  39675.000000  39675.000000  39675.000000    39675.000000  39675.000000   \n",
       "mean    1146.082798     19.584776      4.772350        6.524865      7.338500   \n",
       "std      767.206621      6.304976      3.260582        6.492107     13.366381   \n",
       "min        0.000000      2.000000      0.000000        0.000000      0.000000   \n",
       "25%      521.000000     22.000000      0.000000        1.000000      0.000000   \n",
       "50%     1044.000000     22.000000      7.000000        4.000000      3.000000   \n",
       "75%     1656.000000     22.000000      7.000000       10.000000      9.000000   \n",
       "max     4933.000000     23.000000      7.000000       43.000000    291.000000   \n",
       "\n",
       "         r1_hero_id      r1_kills     r1_deaths    r1_assists     r1_denies  \\\n",
       "count  39675.000000  39675.000000  39675.000000  39675.000000  39675.000000   \n",
       "mean      51.103138      3.147876      3.268809      4.670170      6.289628   \n",
       "std       34.603057      3.724282      3.283323      5.225349      8.203957   \n",
       "min        1.000000      0.000000      0.000000      0.000000      0.000000   \n",
       "25%       20.000000      0.000000      1.000000      1.000000      1.000000   \n",
       "50%       44.000000      2.000000      2.000000      3.000000      3.000000   \n",
       "75%       81.000000      5.000000      5.000000      7.000000      9.000000   \n",
       "max      120.000000     32.000000     27.000000     40.000000     84.000000   \n",
       "\n",
       "           ...            d5_stuns  d5_creeps_stacked  d5_camps_stacked  \\\n",
       "count      ...        39675.000000       39675.000000      39675.000000   \n",
       "mean       ...           11.773324           1.039017          0.343138   \n",
       "std        ...           20.578321           3.534302          0.963734   \n",
       "min        ...           -6.191284           0.000000          0.000000   \n",
       "25%        ...            0.000000           0.000000          0.000000   \n",
       "50%        ...            1.505127           0.000000          0.000000   \n",
       "75%        ...           16.029575           0.000000          0.000000   \n",
       "max        ...          277.618070         132.000000         29.000000   \n",
       "\n",
       "       d5_rune_pickups  d5_firstblood_claimed  d5_teamfight_participation  \\\n",
       "count     39675.000000           39675.000000                39675.000000   \n",
       "mean          4.683907               0.090132                    0.415961   \n",
       "std           4.643219               0.286375                    0.267551   \n",
       "min           0.000000               0.000000                    0.000000   \n",
       "25%           1.000000               0.000000                    0.236842   \n",
       "50%           3.000000               0.000000                    0.444444   \n",
       "75%           7.000000               0.000000                    0.600000   \n",
       "max          57.000000               1.000000                    2.000000   \n",
       "\n",
       "       d5_towers_killed  d5_roshans_killed  d5_obs_placed  d5_sen_placed  \n",
       "count      39675.000000       39675.000000   39675.000000   39675.000000  \n",
       "mean           0.299811           0.024423       1.269288       0.783289  \n",
       "std            0.732490           0.170500       2.597549       2.437952  \n",
       "min            0.000000           0.000000       0.000000       0.000000  \n",
       "25%            0.000000           0.000000       0.000000       0.000000  \n",
       "50%            0.000000           0.000000       0.000000       0.000000  \n",
       "75%            0.000000           0.000000       1.000000       0.000000  \n",
       "max            9.000000           5.000000      26.000000      47.000000  \n",
       "\n",
       "[8 rows x 245 columns]"
      ]
     },
     "execution_count": 43,
     "metadata": {},
     "output_type": "execute_result"
    }
   ],
   "source": [
    "df_train_features.describe()"
   ]
  },
  {
   "cell_type": "code",
   "execution_count": 94,
   "metadata": {},
   "outputs": [],
   "source": [
    "df_new = df_train_features[['game_time', 'game_mode', 'lobby_type', 'objectives_len', 'chat_len', \\\n",
    "                           'r1_kills','r1_deaths','r1_gold','r1_towers_killed', 'r1_assists', 'r1_denies', 'r1_roshans_killed',\\\n",
    "                           'r2_kills','r2_deaths','r2_gold','r2_towers_killed', 'r2_assists', 'r2_denies', 'r2_roshans_killed',\\\n",
    "                           'r3_kills','r3_deaths','r3_gold','r3_towers_killed', 'r3_assists', 'r3_denies', 'r3_roshans_killed',\\\n",
    "                           'r4_kills','r4_deaths','r4_gold','r4_towers_killed', 'r4_assists', 'r4_denies', 'r4_roshans_killed',\\\n",
    "                           'r5_kills','r5_deaths','r5_gold','r5_towers_killed', 'r5_assists', 'r5_denies', 'r5_roshans_killed',\\\n",
    "                           'd1_kills','d1_deaths','d1_gold','d1_towers_killed', 'd1_assists', 'd1_denies', 'd1_roshans_killed',\\\n",
    "                           'd2_kills','d2_deaths','d2_gold','d2_towers_killed', 'd2_assists', 'd2_denies', 'd2_roshans_killed',\\\n",
    "                           'd3_kills','d3_deaths','d3_gold','d3_towers_killed', 'd3_assists', 'd3_denies', 'd3_roshans_killed',\\\n",
    "                           'd4_kills','d4_deaths','d4_gold','d4_towers_killed', 'd4_assists', 'd4_denies', 'd4_roshans_killed',\\\n",
    "                           'd5_kills','d5_deaths','d5_gold','d5_towers_killed', 'd5_assists', 'd5_denies', 'd5_roshans_killed'\n",
    "                           ]]\n",
    "df_train_full = df_new.merge(df_train_targets)\n",
    "#df_train_full = df_train_features.merge(df_train_targets)"
   ]
  },
  {
   "cell_type": "code",
   "execution_count": 95,
   "metadata": {},
   "outputs": [
    {
     "data": {
      "text/plain": [
       "<matplotlib.axes._subplots.AxesSubplot at 0x2986c934a58>"
      ]
     },
     "execution_count": 95,
     "metadata": {},
     "output_type": "execute_result"
    },
    {
     "data": {
      "image/png": "[encoded data removed]",
      "text/plain": [
       "<Figure size 1080x864 with 2 Axes>"
      ]
     },
     "metadata": {
      "needs_background": "light"
     },
     "output_type": "display_data"
    }
   ],
   "source": [
    "import seaborn as sns\n",
    "import matplotlib.pyplot as plt\n",
    "\n",
    "plt.figure(figsize=(15, 12))\n",
    "sns.heatmap(df_train_full.corr())"
   ]
  },
  {
   "cell_type": "markdown",
   "metadata": {
    "_uuid": "c25fbce112c73f64c0fd544c853084e5734de11d"
   },
   "source": [
    "## Training and evaluating a model"
   ]
  },
  {
   "cell_type": "markdown",
   "metadata": {
    "_uuid": "c679d807c3609bf57320c331fefe93bffc72d948"
   },
   "source": [
    "#### Let's construct a feature matrix `X` and a target vector `y`"
   ]
  },
  {
   "cell_type": "code",
   "execution_count": 96,
   "metadata": {
    "_uuid": "37ca1c0b98702d304f90d462379fa62f03571ebc"
   },
   "outputs": [],
   "source": [
    "X = df_new.values\n",
    "#X = df_train_features.values\n",
    "y = df_train_targets['radiant_win'].values"
   ]
  },
  {
   "cell_type": "markdown",
   "metadata": {
    "_uuid": "135d1642aa2fb6865f874b0f64689b5cb6037491"
   },
   "source": [
    "#### Perform  a train/test split (a simple validation scheme)"
   ]
  },
  {
   "cell_type": "code",
   "execution_count": 97,
   "metadata": {
    "_uuid": "58485053cb79d517d709ceaa3e6e31d1d0b8e0f2"
   },
   "outputs": [],
   "source": [
    "from sklearn.model_selection import train_test_split\n",
    "\n",
    "X_train, X_valid, y_train, y_valid = train_test_split(X, y, \n",
    "                                                      test_size=0.3, \n",
    "                                                      random_state=17)"
   ]
  },
  {
   "cell_type": "markdown",
   "metadata": {
    "_uuid": "1062cc9f81b5ef07b03385994fd3d6bbe2ade8bd"
   },
   "source": [
    "#### Train the Random Forest model"
   ]
  },
  {
   "cell_type": "code",
   "execution_count": 98,
   "metadata": {
    "_uuid": "98687be065f843aa0dd201cb9d20b797584c38f2"
   },
   "outputs": [
    {
     "name": "stdout",
     "output_type": "stream",
     "text": [
      "Wall time: 2.45 s\n"
     ]
    }
   ],
   "source": [
    "%%time\n",
    "from sklearn.ensemble import RandomForestClassifier\n",
    "model = RandomForestClassifier(n_estimators=100, n_jobs=4, random_state=17)\n",
    "model.fit(X_train, y_train)"
   ]
  },
  {
   "cell_type": "markdown",
   "metadata": {
    "_uuid": "8b1799aff8d7493557d9bede120ea67af00b14f6"
   },
   "source": [
    "#### Make predictions for the holdout set\n",
    "\n",
    "We need to predict probabilities of class 1 - that Radiant wins, thus we need index 1 in the matrix returned by the `predict_proba` method."
   ]
  },
  {
   "cell_type": "code",
   "execution_count": 99,
   "metadata": {
    "_uuid": "bc1b7df6bf6bbd7910a947de14e3b7d8e2890e1a"
   },
   "outputs": [],
   "source": [
    "y_pred = model.predict_proba(X_valid)[:, 1]"
   ]
  },
  {
   "cell_type": "markdown",
   "metadata": {
    "_uuid": "54947aa18a6e9ab0209fc9134085235bd6a6d810"
   },
   "source": [
    "Let's take a look:"
   ]
  },
  {
   "cell_type": "code",
   "execution_count": 100,
   "metadata": {
    "_uuid": "ce5d9759ac0bda3920ed526e2d61a7369a3dca1e"
   },
   "outputs": [
    {
     "data": {
      "text/plain": [
       "array([0.07, 0.48, 0.54, ..., 0.5 , 0.45, 0.5 ])"
      ]
     },
     "execution_count": 100,
     "metadata": {},
     "output_type": "execute_result"
    }
   ],
   "source": [
    "y_pred"
   ]
  },
  {
   "cell_type": "markdown",
   "metadata": {
    "_uuid": "0195d46c9fc6fc2ab1ab263ab560ddcbfd4bfea7"
   },
   "source": [
    "#### Let's evaluate prediction quality with the holdout set\n",
    "\n",
    "We'll calculate ROC-AUC."
   ]
  },
  {
   "cell_type": "code",
   "execution_count": 101,
   "metadata": {
    "_uuid": "9ae476b3bd627fb668ca57b42c5b2cf107444fe3"
   },
   "outputs": [
    {
     "name": "stdout",
     "output_type": "stream",
     "text": [
      "Validation ROC-AUC score: 0.7693080257670659\n"
     ]
    }
   ],
   "source": [
    "from sklearn.metrics import roc_auc_score\n",
    "\n",
    "valid_score = roc_auc_score(y_valid, y_pred)\n",
    "print('Validation ROC-AUC score:', valid_score)"
   ]
  },
  {
   "cell_type": "markdown",
   "metadata": {
    "_uuid": "0741b9f8ef727db4f0049af76c672c7d7ab94aa0"
   },
   "source": [
    "Out if curiosiry, we can calculate accuracy of a classifier which predicts class 1 if predicted probability is higher than 50%. "
   ]
  },
  {
   "cell_type": "code",
   "execution_count": 102,
   "metadata": {
    "_uuid": "fb163a80ec9fc92bc2c6356a9193a5356596a42a"
   },
   "outputs": [
    {
     "name": "stdout",
     "output_type": "stream",
     "text": [
      "Validation accuracy of P>0.5 classifier: 0.6928505418801982\n"
     ]
    }
   ],
   "source": [
    "from sklearn.metrics import accuracy_score\n",
    "\n",
    "valid_accuracy = accuracy_score(y_valid, y_pred > 0.5)\n",
    "print('Validation accuracy of P>0.5 classifier:', valid_accuracy)"
   ]
  },
  {
   "cell_type": "markdown",
   "metadata": {
    "_uuid": "68b784d190c7fccd394e67b7bc20f6dc58c57c5d"
   },
   "source": [
    "## Preparing a submission\n",
    "\n",
    "Now the same for test data."
   ]
  },
  {
   "cell_type": "code",
   "execution_count": 103,
   "metadata": {
    "_uuid": "bf9749b3551b6bcf1e8ce4bea73c32ca5bde1c32"
   },
   "outputs": [],
   "source": [
    "df_test_features = pd.read_csv(os.path.join(PATH_TO_DATA, 'test_features.csv'), \n",
    "                                   index_col='match_id_hash')\n",
    "\n",
    "df_test = df_test_features[['game_time', 'game_mode', 'lobby_type', 'objectives_len', 'chat_len',\\\n",
    "                           'r1_kills','r1_deaths','r1_gold','r1_towers_killed', 'r1_assists', 'r1_denies', 'r1_roshans_killed',\\\n",
    "                           'r2_kills','r2_deaths','r2_gold','r2_towers_killed', 'r2_assists', 'r2_denies', 'r2_roshans_killed',\\\n",
    "                           'r3_kills','r3_deaths','r3_gold','r3_towers_killed', 'r3_assists', 'r3_denies', 'r3_roshans_killed',\\\n",
    "                           'r4_kills','r4_deaths','r4_gold','r4_towers_killed', 'r4_assists', 'r4_denies', 'r4_roshans_killed',\\\n",
    "                           'r5_kills','r5_deaths','r5_gold','r5_towers_killed', 'r5_assists', 'r5_denies', 'r5_roshans_killed',\\\n",
    "                           'd1_kills','d1_deaths','d1_gold','d1_towers_killed', 'd1_assists', 'd1_denies', 'd1_roshans_killed',\\\n",
    "                           'd2_kills','d2_deaths','d2_gold','d2_towers_killed', 'd2_assists', 'd2_denies', 'd2_roshans_killed',\\\n",
    "                           'd3_kills','d3_deaths','d3_gold','d3_towers_killed', 'd3_assists', 'd3_denies', 'd3_roshans_killed',\\\n",
    "                           'd4_kills','d4_deaths','d4_gold','d4_towers_killed', 'd4_assists', 'd4_denies', 'd4_roshans_killed',\\\n",
    "                           'd5_kills','d5_deaths','d5_gold','d5_towers_killed', 'd5_assists', 'd5_denies', 'd5_roshans_killed'\n",
    "                           ]]\n",
    "\n",
    "X_test = df_test.values\n",
    "#X_test = df_test_features.values\n",
    "y_test_pred = model.predict_proba(X_test)[:, 1]\n",
    "\n",
    "df_submission = pd.DataFrame({'radiant_win_prob': y_test_pred}, \n",
    "                                 index=df_test_features.index)"
   ]
  },
  {
   "cell_type": "code",
   "execution_count": 104,
   "metadata": {
    "_uuid": "8c13fa4c8690e51045e59040f4ef9a621434716c"
   },
   "outputs": [
    {
     "data": {
      "text/html": [
       "<div>\n",
       "<style scoped>\n",
       "    .dataframe tbody tr th:only-of-type {\n",
       "        vertical-align: middle;\n",
       "    }\n",
       "\n",
       "    .dataframe tbody tr th {\n",
       "        vertical-align: top;\n",
       "    }\n",
       "\n",
       "    .dataframe thead th {\n",
       "        text-align: right;\n",
       "    }\n",
       "</style>\n",
       "<table border=\"1\" class=\"dataframe\">\n",
       "  <thead>\n",
       "    <tr style=\"text-align: right;\">\n",
       "      <th></th>\n",
       "      <th>radiant_win_prob</th>\n",
       "    </tr>\n",
       "    <tr>\n",
       "      <th>match_id_hash</th>\n",
       "      <th></th>\n",
       "    </tr>\n",
       "  </thead>\n",
       "  <tbody>\n",
       "    <tr>\n",
       "      <th>30cc2d778dca82f2edb568ce9b585caa</th>\n",
       "      <td>0.314025</td>\n",
       "    </tr>\n",
       "    <tr>\n",
       "      <th>70e5ba30f367cea48793b9003fab9d38</th>\n",
       "      <td>0.850000</td>\n",
       "    </tr>\n",
       "    <tr>\n",
       "      <th>4d9ef74d3a2025d79e9423105fd73d41</th>\n",
       "      <td>0.770000</td>\n",
       "    </tr>\n",
       "    <tr>\n",
       "      <th>2bb79e0c1eaac1608e5a09c8e0c6a555</th>\n",
       "      <td>0.620000</td>\n",
       "    </tr>\n",
       "    <tr>\n",
       "      <th>bec17f099b01d67edc82dfb5ce735a43</th>\n",
       "      <td>0.270000</td>\n",
       "    </tr>\n",
       "  </tbody>\n",
       "</table>\n",
       "</div>"
      ],
      "text/plain": [
       "                                  radiant_win_prob\n",
       "match_id_hash                                     \n",
       "30cc2d778dca82f2edb568ce9b585caa          0.314025\n",
       "70e5ba30f367cea48793b9003fab9d38          0.850000\n",
       "4d9ef74d3a2025d79e9423105fd73d41          0.770000\n",
       "2bb79e0c1eaac1608e5a09c8e0c6a555          0.620000\n",
       "bec17f099b01d67edc82dfb5ce735a43          0.270000"
      ]
     },
     "execution_count": 104,
     "metadata": {},
     "output_type": "execute_result"
    }
   ],
   "source": [
    "df_submission.head()"
   ]
  },
  {
   "cell_type": "markdown",
   "metadata": {
    "_uuid": "438f19efd3f319b862b73c908e91317f5acf1df2"
   },
   "source": [
    "Save the submission file, it's handy to include current datetime in the filename. "
   ]
  },
  {
   "cell_type": "code",
   "execution_count": 105,
   "metadata": {
    "_uuid": "e4a5ac4e81c5fef0a93d1fa54415bb52727489f3"
   },
   "outputs": [
    {
     "name": "stdout",
     "output_type": "stream",
     "text": [
      "Submission saved to submission_2019-03-25_16-32-42.csv\n"
     ]
    }
   ],
   "source": [
    "import datetime\n",
    "submission_filename = 'submission_{}.csv'.format(\n",
    "    datetime.datetime.now().strftime('%Y-%m-%d_%H-%M-%S'))\n",
    "df_submission.to_csv(submission_filename)\n",
    "print('Submission saved to {}'.format(submission_filename))"
   ]
  },
  {
   "cell_type": "markdown",
   "metadata": {
    "_uuid": "7aa8cfa79efd9253299c1bc52e1778a3660c7ec6"
   },
   "source": [
    "## Cross-validation\n",
    "\n",
    "As we already know, cross-validation is a more reliable validation technique than just one train/test split. Here we'll resort to `ShuffleSplit` to create 5 70%/30% splits. "
   ]
  },
  {
   "cell_type": "code",
   "execution_count": 106,
   "metadata": {
    "_uuid": "c19342d24b586d208d4aa167e6730f1c531dca32"
   },
   "outputs": [],
   "source": [
    "from sklearn.model_selection import ShuffleSplit, KFold\n",
    "cv = ShuffleSplit(n_splits=5, test_size=0.3, random_state=17)"
   ]
  },
  {
   "cell_type": "code",
   "execution_count": 107,
   "metadata": {
    "_uuid": "dacc8bc320a3417b30fceff7e57d8dd954a9b138"
   },
   "outputs": [],
   "source": [
    "from sklearn.model_selection import cross_val_score"
   ]
  },
  {
   "cell_type": "markdown",
   "metadata": {
    "_uuid": "7e5e235b8d0b084fe5c3c3354e55eda59047f3fc"
   },
   "source": [
    "#### Run cross-validation\n",
    "\n",
    "We'll train 2 versions of the  `RandomForestClassifier` model - first with default capacity (trees are not limited in depth), second - with `min_samples_leaf`=3, i.e. each leave is obliged to have at least 3 instances. "
   ]
  },
  {
   "cell_type": "code",
   "execution_count": 108,
   "metadata": {
    "_uuid": "0abb5505ab9dc21c389235fde06b16e1faca4ec5"
   },
   "outputs": [
    {
     "name": "stdout",
     "output_type": "stream",
     "text": [
      "Wall time: 16 s\n"
     ]
    }
   ],
   "source": [
    "%%time\n",
    "\n",
    "model_rf1 = RandomForestClassifier(n_estimators=100, n_jobs=4,\n",
    "                                   max_depth=None, random_state=17)\n",
    "\n",
    "# calcuate ROC-AUC for each split\n",
    "cv_scores_rf1 = cross_val_score(model_rf1, X, y, cv=cv, scoring='roc_auc')"
   ]
  },
  {
   "cell_type": "code",
   "execution_count": 109,
   "metadata": {
    "_uuid": "211c1fe30c37a1529bcbd829019fcc2d9c13ca09"
   },
   "outputs": [
    {
     "name": "stdout",
     "output_type": "stream",
     "text": [
      "Wall time: 14.2 s\n"
     ]
    }
   ],
   "source": [
    "%%time\n",
    "\n",
    "model_rf2 = RandomForestClassifier(n_estimators=100, n_jobs=4,\n",
    "                                   min_samples_leaf=3, random_state=17)\n",
    "\n",
    "cv_scores_rf2 = cross_val_score(model_rf2, X, y, cv=cv, \n",
    "                                scoring='roc_auc', n_jobs=-1)"
   ]
  },
  {
   "cell_type": "markdown",
   "metadata": {
    "_uuid": "5dd9a0adcc5855ff2b44f1d73045fc9204d104d9"
   },
   "source": [
    "#### CV results\n",
    "\n",
    "The result returned by `cross_val_score` is an array with metric values (ROC-AUC) for each split:"
   ]
  },
  {
   "cell_type": "code",
   "execution_count": 110,
   "metadata": {
    "_uuid": "d7675ba721f98ea79fda43fb9d2afb76d9dd89e2"
   },
   "outputs": [
    {
     "data": {
      "text/plain": [
       "array([0.76930803, 0.77377224, 0.77757132, 0.7732839 , 0.77111877])"
      ]
     },
     "execution_count": 110,
     "metadata": {},
     "output_type": "execute_result"
    }
   ],
   "source": [
    "cv_scores_rf1"
   ]
  },
  {
   "cell_type": "code",
   "execution_count": 111,
   "metadata": {
    "_uuid": "88967b7133942b2e22c9902e28ad6ed6f94be4c9"
   },
   "outputs": [
    {
     "data": {
      "text/plain": [
       "array([0.77603772, 0.78043144, 0.78306034, 0.77950346, 0.77473299])"
      ]
     },
     "execution_count": 111,
     "metadata": {},
     "output_type": "execute_result"
    }
   ],
   "source": [
    "cv_scores_rf2"
   ]
  },
  {
   "cell_type": "markdown",
   "metadata": {
    "_uuid": "2f2983d499791228c2ed99e5559c8808be7d74bd"
   },
   "source": [
    "Let's compare average ROC-AUC among all splits for both models."
   ]
  },
  {
   "cell_type": "code",
   "execution_count": 112,
   "metadata": {
    "_uuid": "d218659e343fa67d972c829b4f982d80e4c7bddf"
   },
   "outputs": [
    {
     "name": "stdout",
     "output_type": "stream",
     "text": [
      "Model 1 mean score: 0.7730108504999328\n",
      "Model 2 mean score: 0.7787531873160037\n"
     ]
    }
   ],
   "source": [
    "print('Model 1 mean score:', cv_scores_rf1.mean())\n",
    "print('Model 2 mean score:', cv_scores_rf2.mean())"
   ]
  },
  {
   "cell_type": "markdown",
   "metadata": {
    "_uuid": "45cab0431a5ed4ebf76fe95c126a21e9edacab34"
   },
   "source": [
    "The second model is preferred. Look, there's a caveat here: the second model is actually better for 4 splits out of 5. So if we were to perform only one train/test split, there would've been a 20% probability to make a wrong conclusion that the first model is better."
   ]
  },
  {
   "cell_type": "code",
   "execution_count": 113,
   "metadata": {
    "_uuid": "0fab6c78d32dc46c36fee562e7edffe503e35d12"
   },
   "outputs": [
    {
     "data": {
      "text/plain": [
       "array([ True,  True,  True,  True,  True])"
      ]
     },
     "execution_count": 113,
     "metadata": {},
     "output_type": "execute_result"
    }
   ],
   "source": [
    "cv_scores_rf2 > cv_scores_rf1"
   ]
  },
  {
   "cell_type": "markdown",
   "metadata": {
    "_uuid": "f1efeae942898ed6ef194ca7c1932070c2ffbc29"
   },
   "source": [
    "## Working with all available information on Dota games\n",
    "Raw data descriptions for all games are given in files `train_matches.jsonl` and `test_matches.jsonl`. Each file has one entry for each game in [JSON](https://en.wikipedia.org/wiki/JSON) format. You only need to know that it can be easily converted to Python objects via the `json.loads` method."
   ]
  },
  {
   "cell_type": "markdown",
   "metadata": {
    "_uuid": "b95a79b85bc5051773938feb1636d527726f6f18"
   },
   "source": [
    "##### Let's explore a single entry"
   ]
  },
  {
   "cell_type": "code",
   "execution_count": 114,
   "metadata": {
    "_uuid": "50dd106f366c8c3fff052d16d3e93f9f54edb8cf"
   },
   "outputs": [],
   "source": [
    "import json\n",
    "\n",
    "with open(os.path.join(PATH_TO_DATA, 'train_matches.jsonl')) as fin:\n",
    "    # read the 18-th line\n",
    "    for i in range(18):\n",
    "        line = fin.readline()\n",
    "    \n",
    "    # read JSON into a Python object \n",
    "    match = json.loads(line)"
   ]
  },
  {
   "cell_type": "markdown",
   "metadata": {
    "_uuid": "c572d6a50cb0f5f7654207806e7d497821832480"
   },
   "source": [
    "The `match` object is now a big Python dictionary. In `match['players']` we have a description of each player.\n",
    "\n",
    "You might think that this `match` object look ugly. You're right! That's actually the real data. And it's the ability to extract nice features from raw data that makes good Data Scientists stand out. You might even be unfamiliar with Dota (or any other application domain) but still be able to construct a good model via feature engineering. It's art and craftmanship at the same time.   "
   ]
  },
  {
   "cell_type": "code",
   "execution_count": 115,
   "metadata": {
    "_uuid": "c6d35e3ba574467684aa365c84c0a950adb25f8d"
   },
   "outputs": [],
   "source": [
    "#match"
   ]
  },
  {
   "cell_type": "markdown",
   "metadata": {
    "_uuid": "babbafcee99d96b9d685261efee6fa3d4a232293"
   },
   "source": [
    "#### Player description"
   ]
  },
  {
   "cell_type": "code",
   "execution_count": 116,
   "metadata": {
    "_uuid": "6c40c80c2e7cd446b5f5cfcf66046750039d13ac"
   },
   "outputs": [],
   "source": [
    "player = match['players'][2]"
   ]
  },
  {
   "cell_type": "markdown",
   "metadata": {
    "_uuid": "3ea80ba2f482597b65990c4628c154cb13a2ef64"
   },
   "source": [
    "KDA: the number of kills, deaths, and assists to alleys."
   ]
  },
  {
   "cell_type": "code",
   "execution_count": 117,
   "metadata": {
    "_uuid": "8581f49ec3600141b6441a126e5f8a6bf57ec760"
   },
   "outputs": [
    {
     "data": {
      "text/plain": [
       "(8, 11, 12)"
      ]
     },
     "execution_count": 117,
     "metadata": {},
     "output_type": "execute_result"
    }
   ],
   "source": [
    "player['kills'], player['deaths'], player['assists']"
   ]
  },
  {
   "cell_type": "markdown",
   "metadata": {
    "_uuid": "b81e530220044d369f43beb5171287372f5fda94"
   },
   "source": [
    "Some statistics on player abilities:"
   ]
  },
  {
   "cell_type": "code",
   "execution_count": 118,
   "metadata": {
    "_uuid": "fd30e63960bd5348a5c05345cde2c1f2ac96d809"
   },
   "outputs": [
    {
     "data": {
      "text/plain": [
       "{'kunkka_torrent': 43,\n",
       " 'kunkka_ghostship': 16,\n",
       " 'kunkka_x_marks_the_spot': 8,\n",
       " 'kunkka_return': 1}"
      ]
     },
     "execution_count": 118,
     "metadata": {},
     "output_type": "execute_result"
    }
   ],
   "source": [
    "player['ability_uses']"
   ]
  },
  {
   "cell_type": "markdown",
   "metadata": {
    "_uuid": "1b4f45c1478a3f1574e3d174a5fd14748ebda83c"
   },
   "source": [
    "#### Example: time series for each player's gold."
   ]
  },
  {
   "cell_type": "code",
   "execution_count": 119,
   "metadata": {
    "_uuid": "4fa2367e05b0c8ae6701e61dd0b9f2017b5fc60a"
   },
   "outputs": [],
   "source": [
    "%matplotlib inline\n",
    "from matplotlib import pyplot as plt"
   ]
  },
  {
   "cell_type": "code",
   "execution_count": 120,
   "metadata": {
    "_uuid": "8eba3e7148640a62fa055bd303161a6773a5e0e7"
   },
   "outputs": [
    {
     "data": {
      "image/png": "[encoded data removed]",
      "text/plain": [
       "<Figure size 432x288 with 1 Axes>"
      ]
     },
     "metadata": {
      "needs_background": "light"
     },
     "output_type": "display_data"
    }
   ],
   "source": [
    "for player in match['players']:\n",
    "    plt.plot(player['times'], player['gold_t'])\n",
    "    \n",
    "plt.title('Gold change for all players');"
   ]
  },
  {
   "cell_type": "markdown",
   "metadata": {
    "_uuid": "a4d99ef0ff061b26f25448d08913ee9990fbe475"
   },
   "source": [
    "#### Function to read files with game descriptions\n",
    "\n",
    "The following function `read_matches(filename)`, can be used to read raw data on Dota 2 games.\n",
    "\n",
    "We recommend to install two Python packages: `ujson` and `tqdm`, it'll make the execution faster and "
   ]
  },
  {
   "cell_type": "code",
   "execution_count": 121,
   "metadata": {
    "_uuid": "1fc978d50288806b0b998859c390e60fe42fba56"
   },
   "outputs": [
    {
     "name": "stdout",
     "output_type": "stream",
     "text": [
      "Please install ujson to read JSON oblects faster\n"
     ]
    }
   ],
   "source": [
    "import os\n",
    "\n",
    "try:\n",
    "    import ujson as json\n",
    "except ModuleNotFoundError:\n",
    "    import json\n",
    "    print ('Please install ujson to read JSON oblects faster')\n",
    "    \n",
    "try:\n",
    "    from tqdm import tqdm_notebook\n",
    "except ModuleNotFoundError:\n",
    "    tqdm_notebook = lambda x: x\n",
    "    print ('Please install tqdm to track progress with Python loops')\n",
    "\n",
    "def read_matches(matches_file):\n",
    "    \n",
    "    MATCHES_COUNT = {\n",
    "        'test_matches.jsonl': 10000,\n",
    "        'train_matches.jsonl': 39675,\n",
    "    }\n",
    "    _, filename = os.path.split(matches_file)\n",
    "    total_matches = MATCHES_COUNT.get(filename)\n",
    "    \n",
    "    with open(matches_file) as fin:\n",
    "        for line in tqdm_notebook(fin, total=total_matches):\n",
    "            yield json.loads(line)"
   ]
  },
  {
   "cell_type": "markdown",
   "metadata": {
    "_uuid": "4008ec8a83b4cbfc7fe1a981cc61574d83d9a29e"
   },
   "source": [
    "#### Reading data in a loop\n",
    "\n",
    "Reading data on all games might take some 2-3 minutes. Thus you'd better stick to the following approach:\n",
    "\n",
    "1. Read a small amount (10-100) of games\n",
    "2. Write code to extract features from these JSON objects\n",
    "3. Make sure the code works fine\n",
    "4. Run the code with all available data\n",
    "5. Save results to a `pickle` file so that you don't need to run all computations from scratch next time "
   ]
  },
  {
   "cell_type": "code",
   "execution_count": 122,
   "metadata": {
    "_uuid": "d47ae0ff04e2c5e04719f6e1be0feeaa4cf2d75a"
   },
   "outputs": [
    {
     "data": {
      "application/vnd.jupyter.widget-view+json": {
       "model_id": "a92eb9367c9740048c86407bc073dedf",
       "version_major": 2,
       "version_minor": 0
      },
      "text/plain": [
       "HBox(children=(IntProgress(value=0, max=39675), HTML(value='')))"
      ]
     },
     "metadata": {},
     "output_type": "display_data"
    },
    {
     "name": "stdout",
     "output_type": "stream",
     "text": [
      "\n"
     ]
    }
   ],
   "source": [
    "for match in read_matches(os.path.join(PATH_TO_DATA, 'train_matches.jsonl')):\n",
    "    match_id_hash = match['match_id_hash']\n",
    "    game_time = match['game_time']\n",
    "    \n",
    "    # processing each game\n",
    "    \n",
    "    for player in match['players']:\n",
    "        pass  # processing each player"
   ]
  },
  {
   "cell_type": "markdown",
   "metadata": {
    "_uuid": "fca6a1e2b7c6eae4788d0abcff705396526a3c4a"
   },
   "source": [
    "## Feature engineering"
   ]
  },
  {
   "cell_type": "code",
   "execution_count": 123,
   "metadata": {
    "_uuid": "a9c0e139f42fce6950ec2f33c6812647561475da"
   },
   "outputs": [],
   "source": [
    "def add_new_features(df_features, matches_file):\n",
    "    \n",
    "    # Process raw data and add new features\n",
    "    for match in read_matches(matches_file):\n",
    "        match_id_hash = match['match_id_hash']\n",
    "\n",
    "        # Counting ruined towers for both teams\n",
    "        radiant_tower_kills = 0\n",
    "        dire_tower_kills = 0\n",
    "        for objective in match['objectives']:\n",
    "            if objective['type'] == 'CHAT_MESSAGE_TOWER_KILL':\n",
    "                if objective['team'] == 2:\n",
    "                    radiant_tower_kills += 1\n",
    "                if objective['team'] == 3:\n",
    "                    dire_tower_kills += 1\n",
    "\n",
    "        # Write new features\n",
    "        df_features.loc[match_id_hash, 'radiant_tower_kills'] = radiant_tower_kills\n",
    "        df_features.loc[match_id_hash, 'dire_tower_kills'] = dire_tower_kills\n",
    "        df_features.loc[match_id_hash, 'diff_tower_kills'] = radiant_tower_kills - dire_tower_kills\n",
    "        \n",
    "        # ... here you can add more features ...\n",
    "        "
   ]
  },
  {
   "cell_type": "code",
   "execution_count": 124,
   "metadata": {
    "_uuid": "6dc7d1cda24bc8688ab0df396980d14aefa7af8a"
   },
   "outputs": [
    {
     "data": {
      "application/vnd.jupyter.widget-view+json": {
       "model_id": "de229922a9a048928f8d6b8ccb880461",
       "version_major": 2,
       "version_minor": 0
      },
      "text/plain": [
       "HBox(children=(IntProgress(value=0, max=39675), HTML(value='')))"
      ]
     },
     "metadata": {},
     "output_type": "display_data"
    },
    {
     "name": "stdout",
     "output_type": "stream",
     "text": [
      "\n"
     ]
    }
   ],
   "source": [
    "# copy the dataframe with features\n",
    "df_train_features_extended = df_new.copy()\n",
    "#df_train_features_extended = df_train_features.copy()\n",
    "\n",
    "# add new features\n",
    "add_new_features(df_train_features_extended, \n",
    "                 os.path.join(PATH_TO_DATA, \n",
    "                              'train_matches.jsonl'))"
   ]
  },
  {
   "cell_type": "markdown",
   "metadata": {
    "_uuid": "e7c67141278ba210dc18f4a4b75e5147159a44c9"
   },
   "source": [
    "We see new features added to the right."
   ]
  },
  {
   "cell_type": "code",
   "execution_count": 125,
   "metadata": {
    "_uuid": "a09555f39a291782b185cca7e58159689c25d561"
   },
   "outputs": [
    {
     "data": {
      "text/html": [
       "<div>\n",
       "<style scoped>\n",
       "    .dataframe tbody tr th:only-of-type {\n",
       "        vertical-align: middle;\n",
       "    }\n",
       "\n",
       "    .dataframe tbody tr th {\n",
       "        vertical-align: top;\n",
       "    }\n",
       "\n",
       "    .dataframe thead th {\n",
       "        text-align: right;\n",
       "    }\n",
       "</style>\n",
       "<table border=\"1\" class=\"dataframe\">\n",
       "  <thead>\n",
       "    <tr style=\"text-align: right;\">\n",
       "      <th></th>\n",
       "      <th>game_time</th>\n",
       "      <th>game_mode</th>\n",
       "      <th>lobby_type</th>\n",
       "      <th>objectives_len</th>\n",
       "      <th>chat_len</th>\n",
       "      <th>r1_kills</th>\n",
       "      <th>r1_deaths</th>\n",
       "      <th>r1_gold</th>\n",
       "      <th>r1_towers_killed</th>\n",
       "      <th>r1_assists</th>\n",
       "      <th>...</th>\n",
       "      <th>d5_kills</th>\n",
       "      <th>d5_deaths</th>\n",
       "      <th>d5_gold</th>\n",
       "      <th>d5_towers_killed</th>\n",
       "      <th>d5_assists</th>\n",
       "      <th>d5_denies</th>\n",
       "      <th>d5_roshans_killed</th>\n",
       "      <th>radiant_tower_kills</th>\n",
       "      <th>dire_tower_kills</th>\n",
       "      <th>diff_tower_kills</th>\n",
       "    </tr>\n",
       "    <tr>\n",
       "      <th>match_id_hash</th>\n",
       "      <th></th>\n",
       "      <th></th>\n",
       "      <th></th>\n",
       "      <th></th>\n",
       "      <th></th>\n",
       "      <th></th>\n",
       "      <th></th>\n",
       "      <th></th>\n",
       "      <th></th>\n",
       "      <th></th>\n",
       "      <th></th>\n",
       "      <th></th>\n",
       "      <th></th>\n",
       "      <th></th>\n",
       "      <th></th>\n",
       "      <th></th>\n",
       "      <th></th>\n",
       "      <th></th>\n",
       "      <th></th>\n",
       "      <th></th>\n",
       "      <th></th>\n",
       "    </tr>\n",
       "  </thead>\n",
       "  <tbody>\n",
       "    <tr>\n",
       "      <th>a400b8f29dece5f4d266f49f1ae2e98a</th>\n",
       "      <td>155</td>\n",
       "      <td>22</td>\n",
       "      <td>7</td>\n",
       "      <td>1</td>\n",
       "      <td>11</td>\n",
       "      <td>0</td>\n",
       "      <td>0</td>\n",
       "      <td>543</td>\n",
       "      <td>0</td>\n",
       "      <td>0</td>\n",
       "      <td>...</td>\n",
       "      <td>0</td>\n",
       "      <td>0</td>\n",
       "      <td>851</td>\n",
       "      <td>0</td>\n",
       "      <td>0</td>\n",
       "      <td>0</td>\n",
       "      <td>0</td>\n",
       "      <td>0.0</td>\n",
       "      <td>0.0</td>\n",
       "      <td>0.0</td>\n",
       "    </tr>\n",
       "    <tr>\n",
       "      <th>b9c57c450ce74a2af79c9ce96fac144d</th>\n",
       "      <td>658</td>\n",
       "      <td>4</td>\n",
       "      <td>0</td>\n",
       "      <td>3</td>\n",
       "      <td>10</td>\n",
       "      <td>7</td>\n",
       "      <td>2</td>\n",
       "      <td>5257</td>\n",
       "      <td>0</td>\n",
       "      <td>0</td>\n",
       "      <td>...</td>\n",
       "      <td>0</td>\n",
       "      <td>2</td>\n",
       "      <td>1423</td>\n",
       "      <td>0</td>\n",
       "      <td>0</td>\n",
       "      <td>1</td>\n",
       "      <td>0</td>\n",
       "      <td>2.0</td>\n",
       "      <td>0.0</td>\n",
       "      <td>2.0</td>\n",
       "    </tr>\n",
       "    <tr>\n",
       "      <th>6db558535151ea18ca70a6892197db41</th>\n",
       "      <td>21</td>\n",
       "      <td>23</td>\n",
       "      <td>0</td>\n",
       "      <td>0</td>\n",
       "      <td>0</td>\n",
       "      <td>0</td>\n",
       "      <td>0</td>\n",
       "      <td>176</td>\n",
       "      <td>0</td>\n",
       "      <td>0</td>\n",
       "      <td>...</td>\n",
       "      <td>0</td>\n",
       "      <td>0</td>\n",
       "      <td>96</td>\n",
       "      <td>0</td>\n",
       "      <td>0</td>\n",
       "      <td>0</td>\n",
       "      <td>0</td>\n",
       "      <td>0.0</td>\n",
       "      <td>0.0</td>\n",
       "      <td>0.0</td>\n",
       "    </tr>\n",
       "    <tr>\n",
       "      <th>46a0ddce8f7ed2a8d9bd5edcbb925682</th>\n",
       "      <td>576</td>\n",
       "      <td>22</td>\n",
       "      <td>7</td>\n",
       "      <td>1</td>\n",
       "      <td>4</td>\n",
       "      <td>1</td>\n",
       "      <td>0</td>\n",
       "      <td>1613</td>\n",
       "      <td>0</td>\n",
       "      <td>3</td>\n",
       "      <td>...</td>\n",
       "      <td>0</td>\n",
       "      <td>1</td>\n",
       "      <td>1333</td>\n",
       "      <td>0</td>\n",
       "      <td>0</td>\n",
       "      <td>1</td>\n",
       "      <td>0</td>\n",
       "      <td>0.0</td>\n",
       "      <td>0.0</td>\n",
       "      <td>0.0</td>\n",
       "    </tr>\n",
       "    <tr>\n",
       "      <th>b1b35ff97723d9b7ade1c9c3cf48f770</th>\n",
       "      <td>453</td>\n",
       "      <td>22</td>\n",
       "      <td>7</td>\n",
       "      <td>1</td>\n",
       "      <td>3</td>\n",
       "      <td>0</td>\n",
       "      <td>1</td>\n",
       "      <td>1404</td>\n",
       "      <td>0</td>\n",
       "      <td>1</td>\n",
       "      <td>...</td>\n",
       "      <td>0</td>\n",
       "      <td>1</td>\n",
       "      <td>2199</td>\n",
       "      <td>0</td>\n",
       "      <td>1</td>\n",
       "      <td>8</td>\n",
       "      <td>0</td>\n",
       "      <td>0.0</td>\n",
       "      <td>0.0</td>\n",
       "      <td>0.0</td>\n",
       "    </tr>\n",
       "  </tbody>\n",
       "</table>\n",
       "<p>5 rows × 78 columns</p>\n",
       "</div>"
      ],
      "text/plain": [
       "                                  game_time  game_mode  lobby_type  \\\n",
       "match_id_hash                                                        \n",
       "a400b8f29dece5f4d266f49f1ae2e98a        155         22           7   \n",
       "b9c57c450ce74a2af79c9ce96fac144d        658          4           0   \n",
       "6db558535151ea18ca70a6892197db41         21         23           0   \n",
       "46a0ddce8f7ed2a8d9bd5edcbb925682        576         22           7   \n",
       "b1b35ff97723d9b7ade1c9c3cf48f770        453         22           7   \n",
       "\n",
       "                                  objectives_len  chat_len  r1_kills  \\\n",
       "match_id_hash                                                          \n",
       "a400b8f29dece5f4d266f49f1ae2e98a               1        11         0   \n",
       "b9c57c450ce74a2af79c9ce96fac144d               3        10         7   \n",
       "6db558535151ea18ca70a6892197db41               0         0         0   \n",
       "46a0ddce8f7ed2a8d9bd5edcbb925682               1         4         1   \n",
       "b1b35ff97723d9b7ade1c9c3cf48f770               1         3         0   \n",
       "\n",
       "                                  r1_deaths  r1_gold  r1_towers_killed  \\\n",
       "match_id_hash                                                            \n",
       "a400b8f29dece5f4d266f49f1ae2e98a          0      543                 0   \n",
       "b9c57c450ce74a2af79c9ce96fac144d          2     5257                 0   \n",
       "6db558535151ea18ca70a6892197db41          0      176                 0   \n",
       "46a0ddce8f7ed2a8d9bd5edcbb925682          0     1613                 0   \n",
       "b1b35ff97723d9b7ade1c9c3cf48f770          1     1404                 0   \n",
       "\n",
       "                                  r1_assists        ...         d5_kills  \\\n",
       "match_id_hash                                       ...                    \n",
       "a400b8f29dece5f4d266f49f1ae2e98a           0        ...                0   \n",
       "b9c57c450ce74a2af79c9ce96fac144d           0        ...                0   \n",
       "6db558535151ea18ca70a6892197db41           0        ...                0   \n",
       "46a0ddce8f7ed2a8d9bd5edcbb925682           3        ...                0   \n",
       "b1b35ff97723d9b7ade1c9c3cf48f770           1        ...                0   \n",
       "\n",
       "                                  d5_deaths  d5_gold  d5_towers_killed  \\\n",
       "match_id_hash                                                            \n",
       "a400b8f29dece5f4d266f49f1ae2e98a          0      851                 0   \n",
       "b9c57c450ce74a2af79c9ce96fac144d          2     1423                 0   \n",
       "6db558535151ea18ca70a6892197db41          0       96                 0   \n",
       "46a0ddce8f7ed2a8d9bd5edcbb925682          1     1333                 0   \n",
       "b1b35ff97723d9b7ade1c9c3cf48f770          1     2199                 0   \n",
       "\n",
       "                                  d5_assists  d5_denies  d5_roshans_killed  \\\n",
       "match_id_hash                                                                \n",
       "a400b8f29dece5f4d266f49f1ae2e98a           0          0                  0   \n",
       "b9c57c450ce74a2af79c9ce96fac144d           0          1                  0   \n",
       "6db558535151ea18ca70a6892197db41           0          0                  0   \n",
       "46a0ddce8f7ed2a8d9bd5edcbb925682           0          1                  0   \n",
       "b1b35ff97723d9b7ade1c9c3cf48f770           1          8                  0   \n",
       "\n",
       "                                  radiant_tower_kills  dire_tower_kills  \\\n",
       "match_id_hash                                                             \n",
       "a400b8f29dece5f4d266f49f1ae2e98a                  0.0               0.0   \n",
       "b9c57c450ce74a2af79c9ce96fac144d                  2.0               0.0   \n",
       "6db558535151ea18ca70a6892197db41                  0.0               0.0   \n",
       "46a0ddce8f7ed2a8d9bd5edcbb925682                  0.0               0.0   \n",
       "b1b35ff97723d9b7ade1c9c3cf48f770                  0.0               0.0   \n",
       "\n",
       "                                  diff_tower_kills  \n",
       "match_id_hash                                       \n",
       "a400b8f29dece5f4d266f49f1ae2e98a               0.0  \n",
       "b9c57c450ce74a2af79c9ce96fac144d               2.0  \n",
       "6db558535151ea18ca70a6892197db41               0.0  \n",
       "46a0ddce8f7ed2a8d9bd5edcbb925682               0.0  \n",
       "b1b35ff97723d9b7ade1c9c3cf48f770               0.0  \n",
       "\n",
       "[5 rows x 78 columns]"
      ]
     },
     "execution_count": 125,
     "metadata": {},
     "output_type": "execute_result"
    }
   ],
   "source": [
    "df_train_features_extended.head()"
   ]
  },
  {
   "cell_type": "markdown",
   "metadata": {
    "_uuid": "07076a419cbecd481d206a3924d4db4a6735ae52"
   },
   "source": [
    "#### Evaluating new features\n",
    "\n",
    "Let's run cross-validation with a fixed model but with two different datasets:\n",
    "\n",
    "1. with features built by organizers (base)\n",
    "2. with new features that we've added (extended)"
   ]
  },
  {
   "cell_type": "code",
   "execution_count": 126,
   "metadata": {
    "_uuid": "14b4f56ff1479c21917e067e4bed4bd0fd604086"
   },
   "outputs": [
    {
     "name": "stdout",
     "output_type": "stream",
     "text": [
      "Wall time: 32.7 s\n"
     ]
    }
   ],
   "source": [
    "%%time\n",
    "\n",
    "from sklearn.ensemble import RandomForestClassifier\n",
    "\n",
    "model = RandomForestClassifier(n_estimators=100, n_jobs=4, random_state=17)\n",
    "\n",
    "cv_scores_base = cross_val_score(model, X, y, cv=cv, scoring='roc_auc', n_jobs=-1)\n",
    "cv_scores_extended = cross_val_score(model, df_train_features_extended.values, y, \n",
    "                                     cv=cv, scoring='roc_auc', n_jobs=-1)"
   ]
  },
  {
   "cell_type": "code",
   "execution_count": 127,
   "metadata": {
    "_uuid": "47613ffbe2de38dbfbf20959990f0df98c32043c"
   },
   "outputs": [
    {
     "name": "stdout",
     "output_type": "stream",
     "text": [
      "Base features: mean=0.7730112126671529 scores=[0.76930984 0.77377224 0.77757132 0.7732839  0.77111877]\n",
      "Extended features: mean=0.7837948317934306 scores=[0.78422746 0.7862606  0.78475462 0.78128089 0.78245059]\n"
     ]
    }
   ],
   "source": [
    "print('Base features: mean={} scores={}'.format(cv_scores_base.mean(), \n",
    "                                                cv_scores_base))\n",
    "print('Extended features: mean={} scores={}'.format(cv_scores_extended.mean(), \n",
    "                                                    cv_scores_extended))"
   ]
  },
  {
   "cell_type": "code",
   "execution_count": 128,
   "metadata": {
    "_uuid": "4af6c9646fdbfb393fd81fb1d34445ed88dc0d7c"
   },
   "outputs": [
    {
     "data": {
      "text/plain": [
       "array([ True,  True,  True,  True,  True])"
      ]
     },
     "execution_count": 128,
     "metadata": {},
     "output_type": "execute_result"
    }
   ],
   "source": [
    "cv_scores_extended > cv_scores_base"
   ]
  },
  {
   "cell_type": "markdown",
   "metadata": {
    "_uuid": "ca0c4a713dceb7837a4f47f0f39bfdda702d9fe2"
   },
   "source": [
    "As we see, `RandomForestClassifier` shows better cross-validation results in case of the extended dataset. Looks reasonable, that's what we build features for."
   ]
  },
  {
   "cell_type": "markdown",
   "metadata": {
    "_uuid": "423f4d57a418fb4292a856f629fceda01711a631"
   },
   "source": [
    "#### New submission"
   ]
  },
  {
   "cell_type": "code",
   "execution_count": 129,
   "metadata": {
    "_uuid": "a4e6149a632036e73f91c167ce4ad22d8d28a7f8"
   },
   "outputs": [
    {
     "data": {
      "application/vnd.jupyter.widget-view+json": {
       "model_id": "5f49db166c934e06a9eb8b362f942b9c",
       "version_major": 2,
       "version_minor": 0
      },
      "text/plain": [
       "HBox(children=(IntProgress(value=0, max=10000), HTML(value='')))"
      ]
     },
     "metadata": {},
     "output_type": "display_data"
    },
    {
     "name": "stdout",
     "output_type": "stream",
     "text": [
      "\n",
      "Wall time: 32.5 s\n"
     ]
    }
   ],
   "source": [
    "%%time\n",
    "# Build the same features for the test set\n",
    "df_test_features_extended = df_test.copy()\n",
    "#df_test_features_extended = df_test_features.copy()\n",
    "add_new_features(df_test_features_extended, \n",
    "                 os.path.join(PATH_TO_DATA, 'test_matches.jsonl'))"
   ]
  },
  {
   "cell_type": "code",
   "execution_count": 130,
   "metadata": {},
   "outputs": [
    {
     "data": {
      "text/plain": [
       "((39675, 75), 39675)"
      ]
     },
     "execution_count": 130,
     "metadata": {},
     "output_type": "execute_result"
    }
   ],
   "source": [
    "X.shape, len(y)"
   ]
  },
  {
   "cell_type": "code",
   "execution_count": 131,
   "metadata": {
    "_uuid": "7f672377fb6b06b19ce2192f9f53be41bd39feb8"
   },
   "outputs": [],
   "source": [
    "model = RandomForestClassifier(n_estimators=100, n_jobs=4, random_state=17)\n",
    "model.fit(X, y)\n",
    "df_submission_base = pd.DataFrame(\n",
    "    {'radiant_win_prob': model.predict_proba(df_test.values)[:, 1]}, \n",
    "    #{'radiant_win_prob': model.predict_proba(df_test_features.values)[:, 1]}, \n",
    "    index=df_test_features.index,\n",
    ")\n",
    "df_submission_base.to_csv('submission_base_rf.csv')"
   ]
  },
  {
   "cell_type": "code",
   "execution_count": 132,
   "metadata": {
    "_uuid": "e9caad309603522b61973b8f1d1c66ad77a29a06"
   },
   "outputs": [],
   "source": [
    "model_extended = RandomForestClassifier(n_estimators=100, n_jobs=4, random_state=17)\n",
    "model_extended.fit(df_train_features_extended.values, y)\n",
    "df_submission_extended = pd.DataFrame(\n",
    "    {'radiant_win_prob': model_extended.predict_proba(df_test_features_extended.values)[:, 1]}, \n",
    "    index=df_test_features.index,\n",
    ")\n",
    "df_submission_extended.to_csv('submission_extended_rf.csv')"
   ]
  },
  {
   "cell_type": "code",
   "execution_count": 133,
   "metadata": {},
   "outputs": [
    {
     "ename": "SyntaxError",
     "evalue": "invalid syntax (<ipython-input-133-b056cdf3f047>, line 1)",
     "output_type": "error",
     "traceback": [
      "\u001b[1;36m  File \u001b[1;32m\"<ipython-input-133-b056cdf3f047>\"\u001b[1;36m, line \u001b[1;32m1\u001b[0m\n\u001b[1;33m    ****************\u001b[0m\n\u001b[1;37m     ^\u001b[0m\n\u001b[1;31mSyntaxError\u001b[0m\u001b[1;31m:\u001b[0m invalid syntax\n"
     ]
    }
   ],
   "source": [
    "****************"
   ]
  },
  {
   "cell_type": "markdown",
   "metadata": {
    "_uuid": "7c90b7da55ba79c13d25ac030400036f98b87492"
   },
   "source": [
    "## How to build initial features from scratch\n",
    "\n",
    "Now we diclose the code that we used to build initial features `train_features.csv` and `test_features.csv`. You can modify the following code to add more features.\n",
    "\n",
    "In a nutshell:\n",
    "\n",
    "1. the  `extract_features_csv(match)` function extracts features from game descriptions and writes them into a dictionary\n",
    "2. the `extract_targets_csv(match, targets)` function extracts the target variable `radiant_win`\n",
    "3. iterating through the file with raw data, we collect all features\n",
    "4. with `pandas.DataFrame.from_records()` we create dataframes with new features"
   ]
  },
  {
   "cell_type": "code",
   "execution_count": null,
   "metadata": {
    "_uuid": "7a786e30a4266f8e076972cf3657765dd2339f2f"
   },
   "outputs": [],
   "source": [
    "import collections\n",
    "\n",
    "MATCH_FEATURES = [\n",
    "    ('game_time', lambda m: m['game_time']),\n",
    "    ('game_mode', lambda m: m['game_mode']),\n",
    "    ('lobby_type', lambda m: m['lobby_type']),\n",
    "    ('objectives_len', lambda m: len(m['objectives'])),\n",
    "    ('chat_len', lambda m: len(m['chat'])),\n",
    "]\n",
    "\n",
    "PLAYER_FIELDS = [\n",
    "    'hero_id',\n",
    "    \n",
    "    'kills',\n",
    "    'deaths',\n",
    "    'assists',\n",
    "    'denies',\n",
    "    \n",
    "    'gold',\n",
    "    'lh',\n",
    "    'xp',\n",
    "    'health',\n",
    "    'max_health',\n",
    "    'max_mana',\n",
    "    'level',\n",
    "\n",
    "    'x',\n",
    "    'y',\n",
    "    \n",
    "    'stuns',\n",
    "    'creeps_stacked',\n",
    "    'camps_stacked',\n",
    "    'rune_pickups',\n",
    "    'firstblood_claimed',\n",
    "    'teamfight_participation',\n",
    "    'towers_killed',\n",
    "    'roshans_killed',\n",
    "    'obs_placed',\n",
    "    'sen_placed',\n",
    "]\n",
    "\n",
    "def extract_features_csv(match):\n",
    "    row = [\n",
    "        ('match_id_hash', match['match_id_hash']),\n",
    "    ]\n",
    "    \n",
    "    for field, f in MATCH_FEATURES:\n",
    "        row.append((field, f(match)))\n",
    "        \n",
    "    for slot, player in enumerate(match['players']):\n",
    "        if slot < 5:\n",
    "            player_name = 'r%d' % (slot + 1)\n",
    "        else:\n",
    "            player_name = 'd%d' % (slot - 4)\n",
    "\n",
    "        for field in PLAYER_FIELDS:\n",
    "            column_name = '%s_%s' % (player_name, field)\n",
    "            row.append((column_name, player[field]))\n",
    "            \n",
    "    return collections.OrderedDict(row)\n",
    "    \n",
    "def extract_targets_csv(match, targets):\n",
    "    return collections.OrderedDict([('match_id_hash', match['match_id_hash'])] + [\n",
    "        (field, targets[field])\n",
    "        for field in ['game_time', 'radiant_win', 'duration', 'time_remaining', 'next_roshan_team']\n",
    "    ])"
   ]
  },
  {
   "cell_type": "code",
   "execution_count": null,
   "metadata": {
    "_uuid": "b64cc62ea488cab9be4a75ec510918b8d6ca147a"
   },
   "outputs": [],
   "source": [
    "%%time\n",
    "\n",
    "df_new_features = []\n",
    "df_new_targets = []\n",
    "\n",
    "for match in read_matches(os.path.join(PATH_TO_DATA, 'train_matches.jsonl')):\n",
    "    match_id_hash = match['match_id_hash']\n",
    "    features = extract_features_csv(match)\n",
    "    targets = extract_targets_csv(match, match['targets'])\n",
    "    \n",
    "    df_new_features.append(features)\n",
    "    df_new_targets.append(targets)\n",
    "    "
   ]
  },
  {
   "cell_type": "code",
   "execution_count": null,
   "metadata": {
    "_uuid": "69b242ad4d20c20621e515c64b4e457f5faabbb4"
   },
   "outputs": [],
   "source": [
    "df_new_features = pd.DataFrame.from_records(df_new_features).set_index('match_id_hash')\n",
    "df_new_targets = pd.DataFrame.from_records(df_new_targets).set_index('match_id_hash')"
   ]
  },
  {
   "cell_type": "code",
   "execution_count": null,
   "metadata": {
    "_uuid": "daa4cf4256d7dc400bde1889bb4e23bf0dc80ab4"
   },
   "outputs": [],
   "source": [
    "df_new_features.head()"
   ]
  },
  {
   "cell_type": "markdown",
   "metadata": {
    "_uuid": "8dee537e854b63f3eddac74af0a64d02a0bfe45b"
   },
   "source": [
    "## Go on!\n",
    "\n",
    "- Discuss new ideas in Slack \n",
    "- Create new features\n",
    "- Try new models and ensembles\n",
    "- Submit predictions\n",
    "- Go and win!"
   ]
  }
 ],
 "metadata": {
  "kernelspec": {
   "display_name": "Python 3",
   "language": "python",
   "name": "python3"
  },
  "language_info": {
   "codemirror_mode": {
    "name": "ipython",
    "version": 3
   },
   "file_extension": ".py",
   "mimetype": "text/x-python",
   "name": "python",
   "nbconvert_exporter": "python",
   "pygments_lexer": "ipython3",
   "version": "3.7.0"
  }
 },
 "nbformat": 4,
 "nbformat_minor": 1
}
